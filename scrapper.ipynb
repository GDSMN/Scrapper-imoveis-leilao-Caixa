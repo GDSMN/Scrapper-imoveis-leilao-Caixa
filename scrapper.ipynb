{
  "cells": [
    {
      "cell_type": "markdown",
      "metadata": {
        "id": "dPxHqw6iwp5t"
      },
      "source": [
        "### Variáveis"
      ]
    },
    {
      "cell_type": "code",
      "execution_count": null,
      "metadata": {
        "id": "eX3Z-2gQeQll"
      },
      "outputs": [],
      "source": [
        "numero_de_imoveis = 50 #limite para webscrapping\n",
        "desconto = 30 #%\n",
        "modalidades = [\"1º Leilão SFI\",\"2º Leilão SFI\",\"Licitação Aberta\",\"Licitação Fechada\", \"Leilão SFI - Edital Único\"]#, \"Venda Online\", \"Venda Direta Online\"\n",
        "tipos_imovel = [\"Casa\",\"Apartamento\",\"Sobrado\",\"Terreno\"]\n",
        "\n",
        "path = \"/content/drive/MyDrive/Imóveis Caixa/\"\n",
        "#URL da planilha diária\n",
        "URL = \"https://venda-imoveis.caixa.gov.br/listaweb/Lista_imoveis_SP.csv?115780016\""
      ]
    },
    {
      "cell_type": "markdown",
      "metadata": {
        "id": "o44peSNZwvLl"
      },
      "source": [
        "### Imports"
      ]
    },
    {
      "cell_type": "code",
      "execution_count": null,
      "metadata": {
        "colab": {
          "base_uri": "https://localhost:8080/"
        },
        "id": "iQlmHpYvWttE",
        "outputId": "77c73001-0d41-48d8-cd3a-2239c5530341"
      },
      "outputs": [],
      "source": [
        "from google.colab import drive\n",
        "drive.mount('/content/drive')"
      ]
    },
    {
      "cell_type": "code",
      "execution_count": null,
      "metadata": {
        "id": "YuyIamXyr9N-"
      },
      "outputs": [],
      "source": [
        "useragents = ['Mozilla/5.0 (Windows NT 10.0; Win64; x64) AppleWebKit/537.36 (KHTML, like Gecko) Chrome/109.0.0.0 Safari/537.36',\n",
        "    'Mozilla/5.0 (Macintosh; Intel Mac OS X 10_15_7) AppleWebKit/537.36 (KHTML, like Gecko) Chrome/109.0.0.0 Safari/537.36',\n",
        "    'Mozilla/5.0 (Windows NT 10.0; Win64; x64) AppleWebKit/537.36 (KHTML, like Gecko) Chrome/108.0.0.0 Safari/537.36',\n",
        "    'Mozilla/5.0 (Macintosh; Intel Mac OS X 10_15_7) AppleWebKit/537.36 (KHTML, like Gecko) Chrome/108.0.0.0 Safari/537.36',\n",
        "    'Mozilla/5.0 (X11; Linux x86_64) AppleWebKit/537.36 (KHTML, like Gecko) Chrome/108.0.0.0 Safari/537.36',\n",
        "    'Mozilla/5.0 (Macintosh; Intel Mac OS X 10_15_7) AppleWebKit/605.1.15 (KHTML, like Gecko) Version/16.1 Safari/605.1.15',\n",
        "    'Mozilla/5.0 (Macintosh; Intel Mac OS X 13_1) AppleWebKit/605.1.15 (KHTML, like Gecko) Version/16.1 Safari/605.1.15',]"
      ]
    },
    {
      "cell_type": "code",
      "execution_count": null,
      "metadata": {
        "colab": {
          "base_uri": "https://localhost:8080/"
        },
        "collapsed": true,
        "id": "ul0DGPrvIvfZ",
        "outputId": "6cbb6253-2f57-49ab-e3df-f23c260fe875"
      },
      "outputs": [],
      "source": [
        "# install chromium, its driver, and selenium\n",
        "!apt update\n",
        "!apt install libu2f-udev libvulkan1\n",
        "!wget https://dl.google.com/linux/direct/google-chrome-stable_current_amd64.deb\n",
        "!dpkg -i google-chrome-stable_current_amd64.deb\n",
        "!wget https://edgedl.me.gvt1.com/edgedl/chrome/chrome-for-testing/118.0.5993.70/linux64/chromedriver-linux64.zip\n",
        "!unzip -j chromedriver-linux64.zip chromedriver-linux64/chromedriver -d /usr/local/bin/\n",
        "!pip install selenium chromedriver_autoinstaller"
      ]
    },
    {
      "cell_type": "code",
      "execution_count": null,
      "metadata": {
        "colab": {
          "base_uri": "https://localhost:8080/"
        },
        "collapsed": true,
        "id": "_Uv74XULp9Qp",
        "outputId": "68063db7-198b-4a75-cff9-85d601f579e5"
      },
      "outputs": [],
      "source": [
        "pip install selenium-stealth"
      ]
    },
    {
      "cell_type": "code",
      "execution_count": null,
      "metadata": {
        "colab": {
          "base_uri": "https://localhost:8080/"
        },
        "collapsed": true,
        "id": "FC9uFnYQAnpj",
        "outputId": "dbcd0023-95cb-4007-dd43-27f5a784913b"
      },
      "outputs": [],
      "source": [
        "pip install webdriver-manager"
      ]
    },
    {
      "cell_type": "code",
      "execution_count": null,
      "metadata": {
        "id": "gk7PxbZoWHuK"
      },
      "outputs": [],
      "source": [
        "import pandas as pd\n",
        "import numpy as np\n",
        "import io\n",
        "import requests\n",
        "from selenium import webdriver\n",
        "import chromedriver_autoinstaller\n",
        "from selenium.webdriver.common.by import By\n",
        "from selenium.webdriver.chrome.options import Options\n",
        "import re\n",
        "import time\n",
        "#import undetected_chromedriver as uc\n",
        "#from seleniumbase import Driver\n",
        "from selenium_stealth import stealth\n",
        "from selenium.webdriver.chrome.service import Service as ChromeService\n",
        "from webdriver_manager.chrome import ChromeDriverManager\n",
        "import IPython\n",
        "from selenium.webdriver.common.proxy import Proxy, ProxyType\n",
        "from selenium.common.exceptions import TimeoutException\n",
        "import pickle"
      ]
    },
    {
      "cell_type": "markdown",
      "metadata": {
        "id": "aIPQowyNyWv9"
      },
      "source": [
        "## **Importação dos dados**"
      ]
    },
    {
      "cell_type": "code",
      "execution_count": null,
      "metadata": {
        "id": "lP29GjXZ3Gio"
      },
      "outputs": [],
      "source": [
        "def parse_cookies(cookies):\n",
        "  cookie_str = ''\n",
        "  for cookie in cookies.items():\n",
        "    cookie_str = cookie_str + cookie[0] + '=' + cookie[1] + '; '\n",
        "  return cookie_str\n",
        "\n",
        "cookie_str = parse_cookies(pickle.load(open(path + \"cookies.pkl\", \"rb\")))"
      ]
    },
    {
      "cell_type": "code",
      "execution_count": null,
      "metadata": {
        "colab": {
          "base_uri": "https://localhost:8080/",
          "height": 35
        },
        "id": "4i13Z6U4QBZG",
        "outputId": "ce6b5c11-6ccf-42f4-c61a-cf09b8717cb4"
      },
      "outputs": [],
      "source": [
        "cookie_str"
      ]
    },
    {
      "cell_type": "code",
      "execution_count": null,
      "metadata": {
        "id": "mx0XRT2Nmeo3"
      },
      "outputs": [],
      "source": [
        "header={\n",
        "    \"User-Agent\": useragents[np.random.randint(0,len(useragents))],\n",
        "    'Accept-Encoding': 'gzip, deflate, br',\n",
        "    'Accept-Language': 'en-US,en;q=0.5',\n",
        "    'Connection':\t'keep-alive',\n",
        "    # cookies manuais\n",
        "    # 'Cookie': '__uzmc=482265560072; __uzmd=1757868480; SIMOV2=ffffffff09f69e3845525d5f4f58455e445a4a423660;',\n",
        "    'Cookie': cookie_str,\n",
        "    'Accept': 'text/html,application/xhtml+xml,application/xml;q=0.9,image/avif,image/jxl,image/webp,*/*;q=0.8'\n",
        "}\n",
        "\n",
        "session = requests.Session()\n",
        "r = session.get(URL, headers=header)"
      ]
    },
    {
      "cell_type": "code",
      "execution_count": null,
      "metadata": {
        "id": "ktl-AuHMySKc"
      },
      "outputs": [],
      "source": [
        "pickle.dump(session.cookies.get_dict(), open(\"cookies.pkl\", \"wb\"))\n",
        "\n",
        "#checar se o bot foi detectado, se sim, tentar com cookies novos\n",
        "if re.search('Radware Bot Manager',r.content.decode('latin-1')) != None:\n",
        "  print('bot detectado')\n",
        "  header['Cookie'] = cookie_str\n",
        "  r = requests.get(URL, headers=header)"
      ]
    },
    {
      "cell_type": "code",
      "execution_count": null,
      "metadata": {
        "id": "rhaxMLdMUykJ"
      },
      "outputs": [],
      "source": [
        "s = r.content\n",
        "\n",
        "data_preco = pd.read_csv(io.StringIO(s.decode('latin-1')), sep=';', skiprows=4, usecols=[5], names=[\"preco\"], encoding='latin-1')\n",
        "data_preco = data_preco.dropna()\n",
        "identidade = data_preco[\"preco\"].str.replace('.','', regex=False).str.split(',', regex=False).str[0].str.isdigit()\n",
        "\n",
        "complemento = data_preco[~identidade]\n",
        "if len(complemento) > 0:\n",
        "  if complemento.iloc[0][0].isdigit():\n",
        "    raise Exception(\"Complemento de endereço não processado. Rever código\")"
      ]
    },
    {
      "cell_type": "code",
      "execution_count": null,
      "metadata": {
        "colab": {
          "base_uri": "https://localhost:8080/"
        },
        "id": "nuU2NMK6iC16",
        "outputId": "e0661008-8917-4705-e0bd-621da7edee09"
      },
      "outputs": [],
      "source": [
        "skipped_rows = [0,1,2,3]\n",
        "complemento_index = [x+4 for x in list(complemento.index)]\n",
        "skipped_rows.extend(complemento_index)\n",
        "print(skipped_rows)\n",
        "colnames=[\"numero\",\"UF\",\"cidade\",\"bairro\",\"endereco\",\"preco\",\"avaliacao\",\"desconto\", \"descricao\",\"modalidade\",\"link\"]\n",
        "data = pd.read_csv(io.StringIO(s.decode('latin-1')), sep=';', skiprows=skipped_rows, names=colnames, index_col=False, encoding='latin-1')"
      ]
    },
    {
      "cell_type": "code",
      "execution_count": null,
      "metadata": {
        "colab": {
          "base_uri": "https://localhost:8080/"
        },
        "id": "M5tti2VVqqZZ",
        "outputId": "f05d11b1-8b84-4cc3-a892-8dd839b51b31"
      },
      "outputs": [],
      "source": [
        "colnames.insert(5, \"complemento\")\n",
        "print(complemento_index)\n",
        "data_complemento = pd.read_csv(URL, sep=';', skiprows=lambda x: x not in complemento_index, names=colnames, index_col=False, encoding='latin-1')\n",
        "data.insert(5, \"complemento\", np.nan)\n",
        "data = pd.concat([data,data_complemento])"
      ]
    },
    {
      "cell_type": "code",
      "execution_count": null,
      "metadata": {
        "id": "_jSNGQBgVq7Y"
      },
      "outputs": [],
      "source": [
        "data[\"preco\"] = data[\"preco\"].str.replace('.','', regex=False).str.replace(',', '.', regex=False)\n",
        "data[\"avaliacao\"] = data[\"avaliacao\"].str.replace('.','', regex=False).str.replace(',', '.', regex=False)\n",
        "data = data.astype({\"preco\": \"float64\", \"avaliacao\": \"float64\"})"
      ]
    },
    {
      "cell_type": "markdown",
      "metadata": {
        "id": "Kg_k7IigyZyG"
      },
      "source": [
        "# **Tratamento**"
      ]
    },
    {
      "cell_type": "markdown",
      "metadata": {
        "id": "3ej3EZN30oV9"
      },
      "source": [
        "### Filtros"
      ]
    },
    {
      "cell_type": "code",
      "execution_count": null,
      "metadata": {
        "id": "9rQiolqgybvn"
      },
      "outputs": [],
      "source": [
        "#tipo de imóvel\n",
        "data = data.loc[data[\"descricao\"].str.split(',').str[0].isin(tipos_imovel)]\n",
        "\n",
        "#modalidade de venda\n",
        "data = data.loc[data[\"modalidade\"].isin(modalidades)]\n",
        "\n",
        "#por desconto\n",
        "data = data.loc[(data[\"desconto\"] >= desconto) | (data[\"desconto\"] == 0)]\n",
        "\n",
        "#por preço\n",
        "#data = data.loc[data[\"preco\"] <= 600000]"
      ]
    },
    {
      "cell_type": "markdown",
      "metadata": {
        "id": "S2n-LFDL7lEB"
      },
      "source": [
        "### Seleção de dados novos"
      ]
    },
    {
      "cell_type": "code",
      "execution_count": null,
      "metadata": {
        "id": "8jgKBYdm7jP5"
      },
      "outputs": [],
      "source": [
        "complete_path = path + \"backlog.csv\"\n",
        "data_old = pd.read_csv(complete_path, sep=';', decimal=',', index_col=False, encoding='utf-8')"
      ]
    },
    {
      "cell_type": "code",
      "execution_count": null,
      "metadata": {
        "id": "6bTa6RHto6NR"
      },
      "outputs": [],
      "source": [
        "mask = data.merge(data_old, how=\"inner\", on=[\"numero\",\"desconto\"])\n",
        "data_new = data[~data[\"numero\"].isin(mask[\"numero\"])]\n",
        "\n",
        "#primeira vez que o imóvel é postado?\n",
        "data_new.insert(11,\"primeiro\",\"S\")\n",
        "data_new.loc[ data_new[\"numero\"].isin(data_old[\"numero\"]) , \"primeiro\"] = \"N\"\n"
      ]
    },
    {
      "cell_type": "code",
      "execution_count": null,
      "metadata": {
        "id": "fm6RDFoF8S6n"
      },
      "outputs": [],
      "source": [
        "data_new.set_index(data_new[\"numero\"], inplace=True)\n",
        "data_new = data_new.drop(columns=[\"numero\"])"
      ]
    },
    {
      "cell_type": "code",
      "execution_count": null,
      "metadata": {
        "id": "54C2hIXqAXho"
      },
      "outputs": [],
      "source": [
        "#remover incompatíveis\n",
        "delete = pd.read_csv(path + \"invalidos.csv\", names=[\"invalidos\"])"
      ]
    },
    {
      "cell_type": "code",
      "execution_count": null,
      "metadata": {
        "id": "DCVCKzkUGJxW"
      },
      "outputs": [],
      "source": [
        "data_new = data_new[~data_new.index.isin(delete.invalidos)]\n",
        "data_new = data_new.sort_values(by=[\"primeiro\", \"desconto\"], ascending=[False, False]).head(numero_de_imoveis)"
      ]
    },
    {
      "cell_type": "markdown",
      "metadata": {
        "id": "1F8KWouIWL4P"
      },
      "source": [
        "### Formatação dos valores"
      ]
    },
    {
      "cell_type": "code",
      "execution_count": null,
      "metadata": {
        "id": "QZuUhShga7g4"
      },
      "outputs": [],
      "source": [
        "data_new['text_content'] = ''\n",
        "data_new['area'] = 0.0\n",
        "data_new['area'] = data_new['area'].astype(float)\n",
        "data_new['financiamento'] = ''"
      ]
    },
    {
      "cell_type": "code",
      "execution_count": null,
      "metadata": {
        "id": "BWE06-wtBgNg"
      },
      "outputs": [],
      "source": [
        "data_new.descricao = data_new.descricao.str.split(pat=',', n=0).str[0]"
      ]
    },
    {
      "cell_type": "code",
      "execution_count": null,
      "metadata": {
        "id": "QGozpvO1aSX1"
      },
      "outputs": [],
      "source": [
        "def coleta(i):\n",
        "  #seleciona conteúdos da caixa\n",
        "  content = wd.find_elements(By.CSS_SELECTOR, \"div.content-wrapper div:nth-child(-n+3) h5, div.content-wrapper div:nth-child(-n+3) span, div.content-wrapper div:nth-child(-n+3) p\")#, div.content-wrapper div:nth-child(-n+3) br\n",
        "  #content = wd.find_elements(By.CSS_SELECTOR, \"div.content-wrapper div:nth-child(-n+3)\")\n",
        "  #salva imagem no cache\n",
        "  picpath = path + \"fotos/\" + str(i) +\".png\"\n",
        "  try:\n",
        "    with open(picpath, \"wb\") as file:\n",
        "      preview = wd.find_element(By.CSS_SELECTOR, \"img#preview\")\n",
        "      file.write(preview.screenshot_as_png)\n",
        "      #print(\"foto salva\")\n",
        "  except:\n",
        "    print(\"sem foto\")\n",
        "\n",
        "  content.pop(2)\n",
        "  content.pop(11)\n",
        "  text_content = \"<h3>\" + content[0].get_attribute(\"innerHTML\") + \"</h3><br><br>\" + \"<h3>\" + re.sub(r\"<br>\", \"</h3><h3>\",content[1].get_attribute(\"innerHTML\")) + \"</h3><br><br>\"\n",
        "  for tag in content[2:]:\n",
        "    text_content += \"<p>\" + tag.get_attribute(\"innerHTML\") + \"</p>\"\n",
        "    #print(tag.get_attribute(\"innerHTML\"))\n",
        "\n",
        "  #prepara texto\n",
        "  text_content = re.sub(r\"\\t\", \"\", text_content)\n",
        "  text_content = re.sub(r\"\\n\", \"\", text_content)\n",
        "  text_content = re.sub(r\"'\", \"\", text_content)\n",
        "  text_content = re.sub(\"span>\", \"p>\", text_content)\n",
        "  text_content = re.sub(\"<input.*?>\", \"\", text_content)\n",
        "  text_content = re.sub(\"<i.*?</i>\", \"\", text_content)\n",
        "  text_content = re.sub(\"<a.*?</a>\", \"\", text_content)\n",
        "\n",
        "  data_new.loc[i, \"text_content\"] = text_content"
      ]
    },
    {
      "cell_type": "code",
      "execution_count": null,
      "metadata": {
        "id": "jOEtrKrU4saG"
      },
      "outputs": [],
      "source": [
        "def coleta_características(i):\n",
        "  imovel = data_new.loc[data_new.index == i].iloc[0]\n",
        "  if imovel.descricao != 'Terreno':\n",
        "    area = re.search(r'(?<=Área privativa = <strong>)(\\d|,)*(?=m2)', imovel.text_content)\n",
        "    if area != None:\n",
        "      area = area.group(0)\n",
        "    else:\n",
        "      area = re.search(r'(?<=Área total = <strong>)(\\d|,)*(?=m2)', imovel.text_content)\n",
        "      if area != None:\n",
        "        area = area.group(0)\n",
        "  else:\n",
        "    area = re.search(r'(?<=Área do terreno = <strong>)(\\d|,)*(?=m2)', imovel.text_content)\n",
        "    if area != None:\n",
        "      area = area.group(0)\n",
        "\n",
        "\n",
        "  financiamento = 'à vista' if re.search('(NÃO aceita financiamento)', imovel.text_content) else 'financiamento'\n",
        "\n",
        "  data_new.loc[i, 'financiamento'] = financiamento\n",
        "  if area == None: return\n",
        "\n",
        "  area = re.sub(r\"\\.\",\"\",area)\n",
        "  area = re.sub(r\",\",\".\",area)\n",
        "\n",
        "  data_new.loc[i, 'area'] = area"
      ]
    },
    {
      "cell_type": "code",
      "execution_count": null,
      "metadata": {
        "id": "nxxornJ4EYpk"
      },
      "outputs": [],
      "source": [
        "def print_content(text_content):\n",
        "  with open(\"text.html\", \"w\") as f:\n",
        "    f.write(text_content)\n",
        "  IPython.display.HTML(filename='/content/text.html')"
      ]
    },
    {
      "cell_type": "code",
      "execution_count": null,
      "metadata": {
        "id": "UQjnAo9Tg1sS"
      },
      "outputs": [],
      "source": [
        "delete = []\n",
        "CEP_list = []\n",
        "date_list = []\n",
        "nao_encontrados =[]"
      ]
    },
    {
      "cell_type": "code",
      "execution_count": null,
      "metadata": {
        "id": "R7P8VcYTEyQl"
      },
      "outputs": [],
      "source": [
        "def start_wd():\n",
        "  service = ChromeService(executable_path=ChromeDriverManager().install())\n",
        "\n",
        "  options = webdriver.ChromeOptions()\n",
        "  options.add_argument(\"--headless\")\n",
        "  options.add_argument('--disable-blink-features=AutomationControlled')\n",
        "  options.add_argument('--disable-popup-blocking')\n",
        "  options.add_argument('--start-maximized')\n",
        "  options.add_argument('--disable-extensions')\n",
        "  options.add_argument('--no-sandbox')\n",
        "  options.add_argument('--disable-dev-shm-usage')\n",
        "\n",
        "  # prox = change_proxy()\n",
        "  # capabilities = wd.DesiredCapabilities.CHROME\n",
        "  # prox.add_to_capabilities(capabilities)\n",
        "\n",
        "  # p = proxies[np.random.randint(0,len(proxies))]\n",
        "  # print(p)\n",
        "  # options.add_argument(f\"--proxy-server={p}\")\n",
        "\n",
        "  wd = webdriver.Chrome(service=service, options=options)\n",
        "  wd.execute_script(\"Object.defineProperty(navigator, 'webdriver', {get: () => undefined})\")\n",
        "\n",
        "\n",
        "  wd.execute_cdp_cmd('Network.setUserAgentOverride', {\"userAgent\":useragents[np.random.randint(0,len(useragents))]})\n",
        "\n",
        "\n",
        "  stealth(wd,\n",
        "        languages=[\"pt-BR\", \"en-US\"],\n",
        "        vendor=\"Google Inc.\",\n",
        "        platform=\"Win32\",\n",
        "        webgl_vendor=\"Intel Inc.\",\n",
        "        renderer=\"Intel Iris OpenGL Engine\",\n",
        "        fix_hairline=True,\n",
        "        )\n",
        "\n",
        "  return wd"
      ]
    },
    {
      "cell_type": "code",
      "execution_count": null,
      "metadata": {
        "id": "O-UXm1hcE8hd"
      },
      "outputs": [],
      "source": [
        "def quit_wd(wd):\n",
        "  pickle.dump(wd.get_cookies(), open(path + \"cookies.pkl\", \"wb\"))\n",
        "  cookie = ''\n",
        "  for c in wd.get_cookies():\n",
        "      cookie += '{name}={value}; '.format(\n",
        "          name=c['name'],\n",
        "          value=c['value']\n",
        "      )\n",
        "  wd.close()\n",
        "  wd.quit()"
      ]
    },
    {
      "cell_type": "code",
      "execution_count": null,
      "metadata": {
        "colab": {
          "base_uri": "https://localhost:8080/"
        },
        "id": "UfYe7ADzACI-",
        "outputId": "b77f0b9c-eb4e-4b18-cf8f-43d42c840820"
      },
      "outputs": [],
      "source": [
        "strike = 0\n",
        "wd = start_wd()\n",
        "\n",
        "wd.get('https://venda-imoveis.caixa.gov.br/sistema/detalhe-imovel.asp?erro')\n",
        "\n",
        "for cookie in session.cookies:\n",
        "  wd.add_cookie({\n",
        "      'name': cookie.name,\n",
        "      'value': cookie.value,\n",
        "      'domain': cookie.domain\n",
        "  })\n",
        "\n",
        "for i, imovel in data_new.iterrows():\n",
        "  url = imovel.link\n",
        "  to = np.random.randint(5,12) #timeout\n",
        "  wd.set_page_load_timeout(to)\n",
        "  try:\n",
        "    wd.get(url)\n",
        "    #wd.uc_open(url)\n",
        "  except:\n",
        "    print(f\"timeout {to}\")\n",
        "    nao_encontrados.append(i)\n",
        "    continue\n",
        "  print(i)\n",
        "  wd.execute_async_script( #scroll pra baixo\n",
        "            \"\"\"\n",
        "        count = 400;\n",
        "        let callback = arguments[arguments.length - 1];\n",
        "        t = setTimeout(function scrolldown(){\n",
        "            console.log(count, t);\n",
        "            window.scrollTo(0, count);\n",
        "            if(count < (document.body.scrollHeight || document.documentElement.scrollHeight)){\n",
        "              count+= 400;\n",
        "              t = setTimeout(scrolldown, 1000);\n",
        "            }else{\n",
        "              callback((document.body.scrollHeight || document.documentElement.scrollHeight));\n",
        "            }\n",
        "        }, 1000);\"\"\"\n",
        "        )\n",
        "  try:\n",
        "    judiciaria = wd.find_element(By.CSS_SELECTOR, \"div.related-box p:last-of-type\")\n",
        "    judiciaria = judiciaria.get_attribute(\"innerHTML\").find(\"judicial\")\n",
        "  except:\n",
        "    judiciaria = -1\n",
        "  if judiciaria != -1:\n",
        "    delete.append(i)\n",
        "    print(\"acao judiciaria\")\n",
        "    # imóveis com ação judiciária não são desejados\n",
        "    continue\n",
        "  if imovel.modalidade == \"Leilão SFI - Edital Único\":\n",
        "    pos_date = \"5\"\n",
        "    if imovel.desconto == \"0,0\":\n",
        "      try:\n",
        "        valor_leilao = wd.find_element(By.CSS_SELECTOR, \"div.content > p\").get_attribute(\"innerHTML\")\n",
        "        valor_leilao = re.search('%s(.*)' % (r\"Valor mínimo de venda 2º Leilão: R\\$ \"), valor_leilao).group(1)\n",
        "        valor_leilao = re.sub(r\"\\.\", \"\", valor_leilao)\n",
        "        valor_leilao = re.sub(r\"</b>\", \"\", valor_leilao)\n",
        "        print(valor_leilao)\n",
        "        data_new.loc[i, \"preco\"] = valor_leilao\n",
        "      except:\n",
        "        print(\"valor 2o leilao nao encontrado\")\n",
        "        nao_encontrados.append(i)\n",
        "        continue\n",
        "  elif imovel.modalidade == \"Licitação Aberta\":\n",
        "    pos_date = \"4\"\n",
        "  else:\n",
        "    CEP_list.append(\"\")\n",
        "    date_list.append(\"\")\n",
        "    continue\n",
        "  try:\n",
        "    date = wd.find_element(By.CSS_SELECTOR, \"div.related-box span:nth-of-type(\" + pos_date + \")\")\n",
        "    date = date.text.split(' - ', 2)[1]\n",
        "    address = wd.find_element(By.CSS_SELECTOR, \"div.related-box p:nth-of-type(1)\")\n",
        "    CEP = re.search('%s(.*)%s' % (\"CEP: \", \",\"), address.text).group(1)\n",
        "    CEP_list.append(CEP)\n",
        "    date_list.append(date)\n",
        "  except:\n",
        "    delete.append(i)\n",
        "    print(\"dados nao encontrados\")\n",
        "    print(re.search('comportamento malicioso', wd.page_source) != None)\n",
        "    if re.search('comportamento malicioso', wd.page_source) != None:\n",
        "      print(\"bot identificados\")\n",
        "      quit_wd(wd)\n",
        "      wd = start_wd()\n",
        "    strike += 1\n",
        "    time.sleep(np.random.randint(3,5))\n",
        "    if strike == 2:\n",
        "      break\n",
        "    time.sleep(np.random.randint(3,5))\n",
        "    continue\n",
        "  coleta(i)\n",
        "\n",
        "  coleta_características(i)\n",
        "\n",
        "  time.sleep(np.random.randint(3,5))"
      ]
    },
    {
      "cell_type": "code",
      "execution_count": null,
      "metadata": {
        "id": "36HMLTaYeQS4"
      },
      "outputs": [],
      "source": [
        "adiados = list(set(nao_encontrados) - set(delete))\n",
        "data_new.drop(index=adiados, inplace=True)"
      ]
    },
    {
      "cell_type": "code",
      "execution_count": null,
      "metadata": {
        "id": "ExQxRP4diym6"
      },
      "outputs": [],
      "source": [
        "data_new.drop(index=delete, inplace=True)\n",
        "if len(CEP_list) < len(data_new):\n",
        "  data_new = data_new.head(len(CEP_list))\n",
        "data_new.insert(4,\"CEP\",CEP_list)\n",
        "data_new.insert(9,\"data\",date_list)"
      ]
    },
    {
      "cell_type": "code",
      "execution_count": null,
      "metadata": {
        "id": "1ZsHi6kI_GvH"
      },
      "outputs": [],
      "source": [
        "# volta os precos ao valor original se o desconto do 2o leilao for menor que o desconto desejado\n",
        "# assim são salvos na lista completa e não são considerados até mudarem de preco\n",
        "data_new.loc[(data_new.preco/data_new.avaliacao) > (1-desconto*.01), \"preco\"] = data.loc[data.numero.isin(data_new.loc[(data_new.preco/data_new.avaliacao) > (1-desconto*.01)].index), \"preco\"]"
      ]
    },
    {
      "cell_type": "code",
      "execution_count": null,
      "metadata": {
        "id": "3VCYnrzzoZoG"
      },
      "outputs": [],
      "source": [
        "# reorganização das colunas\n",
        "data_new = data_new[['UF', 'cidade', 'bairro', 'CEP', 'financiamento', 'data', 'avaliacao', 'preco', 'descricao', 'link', 'area', 'text_content']]"
      ]
    },
    {
      "cell_type": "markdown",
      "metadata": {
        "id": "VFr2aMKIWcfd"
      },
      "source": [
        "### Salvamento"
      ]
    },
    {
      "cell_type": "code",
      "execution_count": null,
      "metadata": {
        "id": "PrXyzdniypjf"
      },
      "outputs": [],
      "source": [
        "pd.DataFrame(delete).to_csv(path + \"invalidos.csv\",sep = ';', mode='a', header=False, index=False)"
      ]
    },
    {
      "cell_type": "markdown",
      "metadata": {
        "id": "Pe1EdA7Avvi2"
      },
      "source": [
        "Atualização da planilha completa"
      ]
    },
    {
      "cell_type": "code",
      "execution_count": null,
      "metadata": {
        "id": "izTYynMEvy6l"
      },
      "outputs": [],
      "source": [
        "data_new[['desconto','data']].to_csv(complete_path, mode='a', index=True, index_label=\"numero\", sep=';', decimal=',', header=False)"
      ]
    },
    {
      "cell_type": "markdown",
      "metadata": {
        "id": "S5Q3KQ0qe15Y"
      },
      "source": [
        "Criação da planilha de novos imóveis"
      ]
    },
    {
      "cell_type": "code",
      "execution_count": null,
      "metadata": {
        "id": "bIVZNl08e1SC"
      },
      "outputs": [],
      "source": [
        "output_path = path + \"imoveis_diarios.csv\"\n",
        "import csv\n",
        "f = open(output_path, 'w')\n",
        "writer = csv.writer(f, delimiter=';')\n",
        "cond = ['']*11\n",
        "cond.insert(8,str(desconto) + \"% ou mais\")\n",
        "cond.insert(10,' '.join(modalidades))\n",
        "writer.writerow(cond)\n",
        "writer.writerow(['']*13)\n",
        "header = [\"N° do imóvel\",\"UF\",\"Cidade\",\"Bairro\", \"CEP\", \"Financiamento\", \"Data\", \"Valor de avaliação\", \"Preço\", \"Descrição\", \"Link de acesso\", \"Area\", \"text_content\"]\n",
        "writer.writerow(header)\n",
        "f.close()"
      ]
    },
    {
      "cell_type": "markdown",
      "metadata": {
        "id": "yFWcIsb1e3nD"
      },
      "source": [
        "Salvamento dos dados"
      ]
    },
    {
      "cell_type": "code",
      "execution_count": null,
      "metadata": {
        "id": "JF805NcHWcDm"
      },
      "outputs": [],
      "source": [
        "data_new.to_csv(output_path, mode='a', index=True, index_label=\"N° do imóvel\", sep=';', decimal=',', header=False, encoding='utf-8')"
      ]
    },
    {
      "cell_type": "code",
      "execution_count": null,
      "metadata": {
        "colab": {
          "base_uri": "https://localhost:8080/",
          "height": 481
        },
        "id": "jSzvdz4j-y8z",
        "outputId": "41421aaa-d357-4626-ceb0-32f4a4aba466"
      },
      "outputs": [],
      "source": [
        "data_new.head()"
      ]
    }
  ],
  "metadata": {
    "colab": {
      "provenance": []
    },
    "kernelspec": {
      "display_name": "Python 3",
      "name": "python3"
    },
    "language_info": {
      "name": "python"
    }
  },
  "nbformat": 4,
  "nbformat_minor": 0
}
